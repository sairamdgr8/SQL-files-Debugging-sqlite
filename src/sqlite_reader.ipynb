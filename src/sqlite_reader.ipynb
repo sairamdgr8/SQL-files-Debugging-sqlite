{
 "cells": [
  {
   "cell_type": "code",
   "execution_count": 28,
   "id": "7f62493b",
   "metadata": {},
   "outputs": [],
   "source": [
    "import sqlglot"
   ]
  },
  {
   "cell_type": "code",
   "execution_count": 29,
   "id": "b1c9d53c",
   "metadata": {},
   "outputs": [
    {
     "data": {
      "text/plain": [
       "'SELECT CAST(a AS SPECIAL INT) FROM x'"
      ]
     },
     "execution_count": 29,
     "metadata": {},
     "output_type": "execute_result"
    }
   ],
   "source": [
    "from sqlglot import expressions as exp\n",
    "\n",
    "sqlglot.transpile(\"SELECT CAST(a AS INT) FROM x\", type_mappings={exp.DataType.Type.INT: \"SPECIAL INT\"})[0]"
   ]
  },
  {
   "cell_type": "code",
   "execution_count": 30,
   "id": "40ab3223",
   "metadata": {},
   "outputs": [
    {
     "ename": "ParseError",
     "evalue": "Expected ). Line 1, Col: 13.\n  SELECT foo( \u001b[4mFROM\u001b[0m bar",
     "output_type": "error",
     "traceback": [
      "\u001b[1;31m---------------------------------------------------------------------------\u001b[0m",
      "\u001b[1;31mParseError\u001b[0m                                Traceback (most recent call last)",
      "\u001b[1;32m<ipython-input-30-5830b3472ce8>\u001b[0m in \u001b[0;36m<module>\u001b[1;34m\u001b[0m\n\u001b[1;32m----> 1\u001b[1;33m \u001b[0msqlglot\u001b[0m\u001b[1;33m.\u001b[0m\u001b[0mtranspile\u001b[0m\u001b[1;33m(\u001b[0m\u001b[1;34m\"SELECT foo( FROM bar\"\u001b[0m\u001b[1;33m)\u001b[0m\u001b[1;33m\u001b[0m\u001b[1;33m\u001b[0m\u001b[0m\n\u001b[0m",
      "\u001b[1;32m~\\anaconda3\\lib\\site-packages\\sqlglot\\__init__.py\u001b[0m in \u001b[0;36mtranspile\u001b[1;34m(code, read, write, identity, error_level, **opts)\u001b[0m\n\u001b[0;32m     68\u001b[0m     return [\n\u001b[0;32m     69\u001b[0m         \u001b[0mDialect\u001b[0m\u001b[1;33m.\u001b[0m\u001b[0mget_or_raise\u001b[0m\u001b[1;33m(\u001b[0m\u001b[0mwrite\u001b[0m\u001b[1;33m)\u001b[0m\u001b[1;33m(\u001b[0m\u001b[1;33m)\u001b[0m\u001b[1;33m.\u001b[0m\u001b[0mgenerate\u001b[0m\u001b[1;33m(\u001b[0m\u001b[0mexpression\u001b[0m\u001b[1;33m,\u001b[0m \u001b[1;33m**\u001b[0m\u001b[0mopts\u001b[0m\u001b[1;33m)\u001b[0m\u001b[1;33m\u001b[0m\u001b[1;33m\u001b[0m\u001b[0m\n\u001b[1;32m---> 70\u001b[1;33m         \u001b[1;32mfor\u001b[0m \u001b[0mexpression\u001b[0m \u001b[1;32min\u001b[0m \u001b[0mparse\u001b[0m\u001b[1;33m(\u001b[0m\u001b[0mcode\u001b[0m\u001b[1;33m,\u001b[0m \u001b[0mread\u001b[0m\u001b[1;33m,\u001b[0m \u001b[0merror_level\u001b[0m\u001b[1;33m=\u001b[0m\u001b[0merror_level\u001b[0m\u001b[1;33m)\u001b[0m\u001b[1;33m\u001b[0m\u001b[1;33m\u001b[0m\u001b[0m\n\u001b[0m\u001b[0;32m     71\u001b[0m     ]\n",
      "\u001b[1;32m~\\anaconda3\\lib\\site-packages\\sqlglot\\__init__.py\u001b[0m in \u001b[0;36mparse\u001b[1;34m(code, read, **opts)\u001b[0m\n\u001b[0;32m     25\u001b[0m     \"\"\"\n\u001b[0;32m     26\u001b[0m     \u001b[0mdialect\u001b[0m \u001b[1;33m=\u001b[0m \u001b[0mDialect\u001b[0m\u001b[1;33m.\u001b[0m\u001b[0mget_or_raise\u001b[0m\u001b[1;33m(\u001b[0m\u001b[0mread\u001b[0m\u001b[1;33m)\u001b[0m\u001b[1;33m(\u001b[0m\u001b[1;33m)\u001b[0m\u001b[1;33m\u001b[0m\u001b[1;33m\u001b[0m\u001b[0m\n\u001b[1;32m---> 27\u001b[1;33m     \u001b[1;32mreturn\u001b[0m \u001b[0mdialect\u001b[0m\u001b[1;33m.\u001b[0m\u001b[0mparse\u001b[0m\u001b[1;33m(\u001b[0m\u001b[0mcode\u001b[0m\u001b[1;33m,\u001b[0m \u001b[1;33m**\u001b[0m\u001b[0mopts\u001b[0m\u001b[1;33m)\u001b[0m\u001b[1;33m\u001b[0m\u001b[1;33m\u001b[0m\u001b[0m\n\u001b[0m\u001b[0;32m     28\u001b[0m \u001b[1;33m\u001b[0m\u001b[0m\n\u001b[0;32m     29\u001b[0m \u001b[1;33m\u001b[0m\u001b[0m\n",
      "\u001b[1;32m~\\anaconda3\\lib\\site-packages\\sqlglot\\dialects.py\u001b[0m in \u001b[0;36mparse\u001b[1;34m(self, code, **opts)\u001b[0m\n\u001b[0;32m     16\u001b[0m \u001b[1;33m\u001b[0m\u001b[0m\n\u001b[0;32m     17\u001b[0m     \u001b[1;32mdef\u001b[0m \u001b[0mparse\u001b[0m\u001b[1;33m(\u001b[0m\u001b[0mself\u001b[0m\u001b[1;33m,\u001b[0m \u001b[0mcode\u001b[0m\u001b[1;33m,\u001b[0m \u001b[1;33m**\u001b[0m\u001b[0mopts\u001b[0m\u001b[1;33m)\u001b[0m\u001b[1;33m:\u001b[0m\u001b[1;33m\u001b[0m\u001b[1;33m\u001b[0m\u001b[0m\n\u001b[1;32m---> 18\u001b[1;33m         \u001b[1;32mreturn\u001b[0m \u001b[0mself\u001b[0m\u001b[1;33m.\u001b[0m\u001b[0mparser\u001b[0m\u001b[1;33m(\u001b[0m\u001b[1;33m**\u001b[0m\u001b[0mopts\u001b[0m\u001b[1;33m)\u001b[0m\u001b[1;33m.\u001b[0m\u001b[0mparse\u001b[0m\u001b[1;33m(\u001b[0m\u001b[0mself\u001b[0m\u001b[1;33m.\u001b[0m\u001b[0mtokenizer\u001b[0m\u001b[1;33m(\u001b[0m\u001b[1;33m)\u001b[0m\u001b[1;33m.\u001b[0m\u001b[0mtokenize\u001b[0m\u001b[1;33m(\u001b[0m\u001b[0mcode\u001b[0m\u001b[1;33m)\u001b[0m\u001b[1;33m,\u001b[0m \u001b[0mcode\u001b[0m\u001b[1;33m)\u001b[0m\u001b[1;33m\u001b[0m\u001b[1;33m\u001b[0m\u001b[0m\n\u001b[0m\u001b[0;32m     19\u001b[0m \u001b[1;33m\u001b[0m\u001b[0m\n\u001b[0;32m     20\u001b[0m     \u001b[1;32mdef\u001b[0m \u001b[0mgenerate\u001b[0m\u001b[1;33m(\u001b[0m\u001b[0mself\u001b[0m\u001b[1;33m,\u001b[0m \u001b[0mexpression\u001b[0m\u001b[1;33m,\u001b[0m \u001b[1;33m**\u001b[0m\u001b[0mopts\u001b[0m\u001b[1;33m)\u001b[0m\u001b[1;33m:\u001b[0m\u001b[1;33m\u001b[0m\u001b[1;33m\u001b[0m\u001b[0m\n",
      "\u001b[1;32m~\\anaconda3\\lib\\site-packages\\sqlglot\\parser.py\u001b[0m in \u001b[0;36mparse\u001b[1;34m(self, raw_tokens, code)\u001b[0m\n\u001b[0;32m    227\u001b[0m                 \u001b[0mself\u001b[0m\u001b[1;33m.\u001b[0m\u001b[0mraise_error\u001b[0m\u001b[1;33m(\u001b[0m\u001b[1;34m\"Invalid expression / Unexpected token\"\u001b[0m\u001b[1;33m)\u001b[0m\u001b[1;33m\u001b[0m\u001b[1;33m\u001b[0m\u001b[0m\n\u001b[0;32m    228\u001b[0m \u001b[1;33m\u001b[0m\u001b[0m\n\u001b[1;32m--> 229\u001b[1;33m             \u001b[0mself\u001b[0m\u001b[1;33m.\u001b[0m\u001b[0mcheck_errors\u001b[0m\u001b[1;33m(\u001b[0m\u001b[1;33m)\u001b[0m\u001b[1;33m\u001b[0m\u001b[1;33m\u001b[0m\u001b[0m\n\u001b[0m\u001b[0;32m    230\u001b[0m             \u001b[0mself\u001b[0m\u001b[1;33m.\u001b[0m\u001b[0mset_parents\u001b[0m\u001b[1;33m(\u001b[0m\u001b[0mexpressions\u001b[0m\u001b[1;33m)\u001b[0m\u001b[1;33m\u001b[0m\u001b[1;33m\u001b[0m\u001b[0m\n\u001b[0;32m    231\u001b[0m \u001b[1;33m\u001b[0m\u001b[0m\n",
      "\u001b[1;32m~\\anaconda3\\lib\\site-packages\\sqlglot\\parser.py\u001b[0m in \u001b[0;36mcheck_errors\u001b[1;34m(self)\u001b[0m\n\u001b[0;32m    235\u001b[0m         \u001b[1;32mfor\u001b[0m \u001b[0merror\u001b[0m \u001b[1;32min\u001b[0m \u001b[0mself\u001b[0m\u001b[1;33m.\u001b[0m\u001b[0merrors\u001b[0m\u001b[1;33m:\u001b[0m\u001b[1;33m\u001b[0m\u001b[1;33m\u001b[0m\u001b[0m\n\u001b[0;32m    236\u001b[0m             \u001b[1;32mif\u001b[0m \u001b[0mself\u001b[0m\u001b[1;33m.\u001b[0m\u001b[0merror_level\u001b[0m \u001b[1;33m==\u001b[0m \u001b[0mErrorLevel\u001b[0m\u001b[1;33m.\u001b[0m\u001b[0mRAISE\u001b[0m\u001b[1;33m:\u001b[0m\u001b[1;33m\u001b[0m\u001b[1;33m\u001b[0m\u001b[0m\n\u001b[1;32m--> 237\u001b[1;33m                 \u001b[1;32mraise\u001b[0m \u001b[0merror\u001b[0m\u001b[1;33m\u001b[0m\u001b[1;33m\u001b[0m\u001b[0m\n\u001b[0m\u001b[0;32m    238\u001b[0m             \u001b[1;32mif\u001b[0m \u001b[0mself\u001b[0m\u001b[1;33m.\u001b[0m\u001b[0merror_level\u001b[0m \u001b[1;33m==\u001b[0m \u001b[0mErrorLevel\u001b[0m\u001b[1;33m.\u001b[0m\u001b[0mWARN\u001b[0m\u001b[1;33m:\u001b[0m\u001b[1;33m\u001b[0m\u001b[1;33m\u001b[0m\u001b[0m\n\u001b[0;32m    239\u001b[0m                 \u001b[0mlogger\u001b[0m\u001b[1;33m.\u001b[0m\u001b[0merror\u001b[0m\u001b[1;33m(\u001b[0m\u001b[0merror\u001b[0m\u001b[1;33m)\u001b[0m\u001b[1;33m\u001b[0m\u001b[1;33m\u001b[0m\u001b[0m\n",
      "\u001b[1;31mParseError\u001b[0m: Expected ). Line 1, Col: 13.\n  SELECT foo( \u001b[4mFROM\u001b[0m bar"
     ]
    }
   ],
   "source": [
    "sqlglot.transpile(\"SELECT foo( FROM bar\")"
   ]
  },
  {
   "cell_type": "code",
   "execution_count": 41,
   "id": "93d42649",
   "metadata": {},
   "outputs": [
    {
     "data": {
      "text/plain": [
       "['CREATE TABLE test (col CHAR(2), col2 TEXT)']"
      ]
     },
     "execution_count": 41,
     "metadata": {},
     "output_type": "execute_result"
    }
   ],
   "source": [
    "sqlglot.transpile(\"create table test(col char(2),col2 string)\")"
   ]
  },
  {
   "cell_type": "code",
   "execution_count": 32,
   "id": "ea762279",
   "metadata": {},
   "outputs": [
    {
     "ename": "ParseError",
     "evalue": "Expected ). Line 1, Col: 41.\n  CREATE TABLE employee (id int  NOT NULL \u001b[4mIDENTITY\u001b[0m(1, 1),first_name varchar(255)  NOT NULL,last_name varchar(255)  NOT NULL,CONSTRAINT employee_pk PRI",
     "output_type": "error",
     "traceback": [
      "\u001b[1;31m---------------------------------------------------------------------------\u001b[0m",
      "\u001b[1;31mParseError\u001b[0m                                Traceback (most recent call last)",
      "\u001b[1;32m<ipython-input-32-f5e4e71626dc>\u001b[0m in \u001b[0;36m<module>\u001b[1;34m\u001b[0m\n\u001b[1;32m----> 1\u001b[1;33m \u001b[0msqlglot\u001b[0m\u001b[1;33m.\u001b[0m\u001b[0mtranspile\u001b[0m\u001b[1;33m(\u001b[0m\u001b[1;34m\"CREATE TABLE employee (id int  NOT NULL IDENTITY(1, 1),first_name varchar(255)  NOT NULL,last_name varchar(255)  NOT NULL,CONSTRAINT employee_pk PRIMARY KEY  (id)) \"\u001b[0m\u001b[1;33m)\u001b[0m\u001b[1;33m\u001b[0m\u001b[1;33m\u001b[0m\u001b[0m\n\u001b[0m",
      "\u001b[1;32m~\\anaconda3\\lib\\site-packages\\sqlglot\\__init__.py\u001b[0m in \u001b[0;36mtranspile\u001b[1;34m(code, read, write, identity, error_level, **opts)\u001b[0m\n\u001b[0;32m     68\u001b[0m     return [\n\u001b[0;32m     69\u001b[0m         \u001b[0mDialect\u001b[0m\u001b[1;33m.\u001b[0m\u001b[0mget_or_raise\u001b[0m\u001b[1;33m(\u001b[0m\u001b[0mwrite\u001b[0m\u001b[1;33m)\u001b[0m\u001b[1;33m(\u001b[0m\u001b[1;33m)\u001b[0m\u001b[1;33m.\u001b[0m\u001b[0mgenerate\u001b[0m\u001b[1;33m(\u001b[0m\u001b[0mexpression\u001b[0m\u001b[1;33m,\u001b[0m \u001b[1;33m**\u001b[0m\u001b[0mopts\u001b[0m\u001b[1;33m)\u001b[0m\u001b[1;33m\u001b[0m\u001b[1;33m\u001b[0m\u001b[0m\n\u001b[1;32m---> 70\u001b[1;33m         \u001b[1;32mfor\u001b[0m \u001b[0mexpression\u001b[0m \u001b[1;32min\u001b[0m \u001b[0mparse\u001b[0m\u001b[1;33m(\u001b[0m\u001b[0mcode\u001b[0m\u001b[1;33m,\u001b[0m \u001b[0mread\u001b[0m\u001b[1;33m,\u001b[0m \u001b[0merror_level\u001b[0m\u001b[1;33m=\u001b[0m\u001b[0merror_level\u001b[0m\u001b[1;33m)\u001b[0m\u001b[1;33m\u001b[0m\u001b[1;33m\u001b[0m\u001b[0m\n\u001b[0m\u001b[0;32m     71\u001b[0m     ]\n",
      "\u001b[1;32m~\\anaconda3\\lib\\site-packages\\sqlglot\\__init__.py\u001b[0m in \u001b[0;36mparse\u001b[1;34m(code, read, **opts)\u001b[0m\n\u001b[0;32m     25\u001b[0m     \"\"\"\n\u001b[0;32m     26\u001b[0m     \u001b[0mdialect\u001b[0m \u001b[1;33m=\u001b[0m \u001b[0mDialect\u001b[0m\u001b[1;33m.\u001b[0m\u001b[0mget_or_raise\u001b[0m\u001b[1;33m(\u001b[0m\u001b[0mread\u001b[0m\u001b[1;33m)\u001b[0m\u001b[1;33m(\u001b[0m\u001b[1;33m)\u001b[0m\u001b[1;33m\u001b[0m\u001b[1;33m\u001b[0m\u001b[0m\n\u001b[1;32m---> 27\u001b[1;33m     \u001b[1;32mreturn\u001b[0m \u001b[0mdialect\u001b[0m\u001b[1;33m.\u001b[0m\u001b[0mparse\u001b[0m\u001b[1;33m(\u001b[0m\u001b[0mcode\u001b[0m\u001b[1;33m,\u001b[0m \u001b[1;33m**\u001b[0m\u001b[0mopts\u001b[0m\u001b[1;33m)\u001b[0m\u001b[1;33m\u001b[0m\u001b[1;33m\u001b[0m\u001b[0m\n\u001b[0m\u001b[0;32m     28\u001b[0m \u001b[1;33m\u001b[0m\u001b[0m\n\u001b[0;32m     29\u001b[0m \u001b[1;33m\u001b[0m\u001b[0m\n",
      "\u001b[1;32m~\\anaconda3\\lib\\site-packages\\sqlglot\\dialects.py\u001b[0m in \u001b[0;36mparse\u001b[1;34m(self, code, **opts)\u001b[0m\n\u001b[0;32m     16\u001b[0m \u001b[1;33m\u001b[0m\u001b[0m\n\u001b[0;32m     17\u001b[0m     \u001b[1;32mdef\u001b[0m \u001b[0mparse\u001b[0m\u001b[1;33m(\u001b[0m\u001b[0mself\u001b[0m\u001b[1;33m,\u001b[0m \u001b[0mcode\u001b[0m\u001b[1;33m,\u001b[0m \u001b[1;33m**\u001b[0m\u001b[0mopts\u001b[0m\u001b[1;33m)\u001b[0m\u001b[1;33m:\u001b[0m\u001b[1;33m\u001b[0m\u001b[1;33m\u001b[0m\u001b[0m\n\u001b[1;32m---> 18\u001b[1;33m         \u001b[1;32mreturn\u001b[0m \u001b[0mself\u001b[0m\u001b[1;33m.\u001b[0m\u001b[0mparser\u001b[0m\u001b[1;33m(\u001b[0m\u001b[1;33m**\u001b[0m\u001b[0mopts\u001b[0m\u001b[1;33m)\u001b[0m\u001b[1;33m.\u001b[0m\u001b[0mparse\u001b[0m\u001b[1;33m(\u001b[0m\u001b[0mself\u001b[0m\u001b[1;33m.\u001b[0m\u001b[0mtokenizer\u001b[0m\u001b[1;33m(\u001b[0m\u001b[1;33m)\u001b[0m\u001b[1;33m.\u001b[0m\u001b[0mtokenize\u001b[0m\u001b[1;33m(\u001b[0m\u001b[0mcode\u001b[0m\u001b[1;33m)\u001b[0m\u001b[1;33m,\u001b[0m \u001b[0mcode\u001b[0m\u001b[1;33m)\u001b[0m\u001b[1;33m\u001b[0m\u001b[1;33m\u001b[0m\u001b[0m\n\u001b[0m\u001b[0;32m     19\u001b[0m \u001b[1;33m\u001b[0m\u001b[0m\n\u001b[0;32m     20\u001b[0m     \u001b[1;32mdef\u001b[0m \u001b[0mgenerate\u001b[0m\u001b[1;33m(\u001b[0m\u001b[0mself\u001b[0m\u001b[1;33m,\u001b[0m \u001b[0mexpression\u001b[0m\u001b[1;33m,\u001b[0m \u001b[1;33m**\u001b[0m\u001b[0mopts\u001b[0m\u001b[1;33m)\u001b[0m\u001b[1;33m:\u001b[0m\u001b[1;33m\u001b[0m\u001b[1;33m\u001b[0m\u001b[0m\n",
      "\u001b[1;32m~\\anaconda3\\lib\\site-packages\\sqlglot\\parser.py\u001b[0m in \u001b[0;36mparse\u001b[1;34m(self, raw_tokens, code)\u001b[0m\n\u001b[0;32m    227\u001b[0m                 \u001b[0mself\u001b[0m\u001b[1;33m.\u001b[0m\u001b[0mraise_error\u001b[0m\u001b[1;33m(\u001b[0m\u001b[1;34m\"Invalid expression / Unexpected token\"\u001b[0m\u001b[1;33m)\u001b[0m\u001b[1;33m\u001b[0m\u001b[1;33m\u001b[0m\u001b[0m\n\u001b[0;32m    228\u001b[0m \u001b[1;33m\u001b[0m\u001b[0m\n\u001b[1;32m--> 229\u001b[1;33m             \u001b[0mself\u001b[0m\u001b[1;33m.\u001b[0m\u001b[0mcheck_errors\u001b[0m\u001b[1;33m(\u001b[0m\u001b[1;33m)\u001b[0m\u001b[1;33m\u001b[0m\u001b[1;33m\u001b[0m\u001b[0m\n\u001b[0m\u001b[0;32m    230\u001b[0m             \u001b[0mself\u001b[0m\u001b[1;33m.\u001b[0m\u001b[0mset_parents\u001b[0m\u001b[1;33m(\u001b[0m\u001b[0mexpressions\u001b[0m\u001b[1;33m)\u001b[0m\u001b[1;33m\u001b[0m\u001b[1;33m\u001b[0m\u001b[0m\n\u001b[0;32m    231\u001b[0m \u001b[1;33m\u001b[0m\u001b[0m\n",
      "\u001b[1;32m~\\anaconda3\\lib\\site-packages\\sqlglot\\parser.py\u001b[0m in \u001b[0;36mcheck_errors\u001b[1;34m(self)\u001b[0m\n\u001b[0;32m    235\u001b[0m         \u001b[1;32mfor\u001b[0m \u001b[0merror\u001b[0m \u001b[1;32min\u001b[0m \u001b[0mself\u001b[0m\u001b[1;33m.\u001b[0m\u001b[0merrors\u001b[0m\u001b[1;33m:\u001b[0m\u001b[1;33m\u001b[0m\u001b[1;33m\u001b[0m\u001b[0m\n\u001b[0;32m    236\u001b[0m             \u001b[1;32mif\u001b[0m \u001b[0mself\u001b[0m\u001b[1;33m.\u001b[0m\u001b[0merror_level\u001b[0m \u001b[1;33m==\u001b[0m \u001b[0mErrorLevel\u001b[0m\u001b[1;33m.\u001b[0m\u001b[0mRAISE\u001b[0m\u001b[1;33m:\u001b[0m\u001b[1;33m\u001b[0m\u001b[1;33m\u001b[0m\u001b[0m\n\u001b[1;32m--> 237\u001b[1;33m                 \u001b[1;32mraise\u001b[0m \u001b[0merror\u001b[0m\u001b[1;33m\u001b[0m\u001b[1;33m\u001b[0m\u001b[0m\n\u001b[0m\u001b[0;32m    238\u001b[0m             \u001b[1;32mif\u001b[0m \u001b[0mself\u001b[0m\u001b[1;33m.\u001b[0m\u001b[0merror_level\u001b[0m \u001b[1;33m==\u001b[0m \u001b[0mErrorLevel\u001b[0m\u001b[1;33m.\u001b[0m\u001b[0mWARN\u001b[0m\u001b[1;33m:\u001b[0m\u001b[1;33m\u001b[0m\u001b[1;33m\u001b[0m\u001b[0m\n\u001b[0;32m    239\u001b[0m                 \u001b[0mlogger\u001b[0m\u001b[1;33m.\u001b[0m\u001b[0merror\u001b[0m\u001b[1;33m(\u001b[0m\u001b[0merror\u001b[0m\u001b[1;33m)\u001b[0m\u001b[1;33m\u001b[0m\u001b[1;33m\u001b[0m\u001b[0m\n",
      "\u001b[1;31mParseError\u001b[0m: Expected ). Line 1, Col: 41.\n  CREATE TABLE employee (id int  NOT NULL \u001b[4mIDENTITY\u001b[0m(1, 1),first_name varchar(255)  NOT NULL,last_name varchar(255)  NOT NULL,CONSTRAINT employee_pk PRI"
     ]
    }
   ],
   "source": [
    "sqlglot.transpile(\"CREATE TABLE employee (id int  NOT NULL IDENTITY(1, 1),first_name varchar(255)  NOT NULL,last_name varchar(255)  NOT NULL,CONSTRAINT employee_pk PRIMARY KEY  (id)) \")"
   ]
  },
  {
   "cell_type": "code",
   "execution_count": 19,
   "id": "8ea4f80a",
   "metadata": {},
   "outputs": [
    {
     "data": {
      "text/plain": [
       "[{'line_no': 1,\n",
       "  'line_pos': 1,\n",
       "  'code': 'L010',\n",
       "  'description': 'Keywords must be consistently upper case.'},\n",
       " {'line_no': 1,\n",
       "  'line_pos': 1,\n",
       "  'code': 'L036',\n",
       "  'description': 'Select targets should be on a new line unless there is only one select target.'},\n",
       " {'line_no': 1,\n",
       "  'line_pos': 1,\n",
       "  'code': 'L044',\n",
       "  'description': 'Query produces an unknown number of result columns.'},\n",
       " {'line_no': 1,\n",
       "  'line_pos': 7,\n",
       "  'code': 'L039',\n",
       "  'description': 'Unnecessary whitespace found.'},\n",
       " {'line_no': 1,\n",
       "  'line_pos': 12,\n",
       "  'code': 'L013',\n",
       "  'description': 'Column expression without alias. Use explicit `AS` clause.'},\n",
       " {'line_no': 1,\n",
       "  'line_pos': 20,\n",
       "  'code': 'L010',\n",
       "  'description': 'Keywords must be consistently upper case.'},\n",
       " {'line_no': 1,\n",
       "  'line_pos': 22,\n",
       "  'code': 'L039',\n",
       "  'description': 'Unnecessary whitespace found.'},\n",
       " {'line_no': 1,\n",
       "  'line_pos': 24,\n",
       "  'code': 'L014',\n",
       "  'description': 'Unquoted identifiers must be consistently lower case.'},\n",
       " {'line_no': 1,\n",
       "  'line_pos': 27,\n",
       "  'code': 'L039',\n",
       "  'description': 'Unnecessary whitespace found.'},\n",
       " {'line_no': 1,\n",
       "  'line_pos': 29,\n",
       "  'code': 'L010',\n",
       "  'description': 'Keywords must be consistently upper case.'},\n",
       " {'line_no': 1,\n",
       "  'line_pos': 34,\n",
       "  'code': 'L009',\n",
       "  'description': 'Files must end with a single trailing newline.'},\n",
       " {'line_no': 1,\n",
       "  'line_pos': 34,\n",
       "  'code': 'L014',\n",
       "  'description': 'Unquoted identifiers must be consistently lower case.'}]"
      ]
     },
     "execution_count": 19,
     "metadata": {},
     "output_type": "execute_result"
    }
   ],
   "source": [
    "import sqlfluff\n",
    "\n",
    "#  -------- LINTING ----------\n",
    "\n",
    "my_bad_query = \"SeLEct  *, 1, blah as  fOO  from myTable\"\n",
    "\n",
    "# Lint the given string and get a list of violations found.\n",
    "result = sqlfluff.lint(my_bad_query, dialect=\"bigquery\")\n",
    "result"
   ]
  },
  {
   "cell_type": "code",
   "execution_count": 21,
   "id": "9142b79b",
   "metadata": {},
   "outputs": [
    {
     "data": {
      "text/plain": [
       "[{'line_no': 1,\n",
       "  'line_pos': 29,\n",
       "  'code': 'L009',\n",
       "  'description': 'Files must end with a single trailing newline.'}]"
      ]
     },
     "execution_count": 21,
     "metadata": {},
     "output_type": "execute_result"
    }
   ],
   "source": [
    "import sqlfluff\n",
    "\n",
    "#  -------- LINTING ----------\n",
    "\n",
    "my_bad_query = \"create table test(col string)\"\n",
    "\n",
    "# Lint the given string and get a list of violations found.\n",
    "result = sqlfluff.lint(my_bad_query, dialect=\"bigquery\")\n",
    "result"
   ]
  },
  {
   "cell_type": "code",
   "execution_count": 26,
   "id": "dedd96e4",
   "metadata": {},
   "outputs": [
    {
     "data": {
      "text/plain": [
       "[{'line_no': 1,\n",
       "  'line_pos': 29,\n",
       "  'code': 'L009',\n",
       "  'description': 'Files must end with a single trailing newline.'}]"
      ]
     },
     "execution_count": 26,
     "metadata": {},
     "output_type": "execute_result"
    }
   ],
   "source": [
    "result = sqlfluff.lint(my_bad_query, dialect=\"snowflake\")\n",
    "result"
   ]
  },
  {
   "cell_type": "code",
   "execution_count": null,
   "id": "ce7d7079",
   "metadata": {},
   "outputs": [],
   "source": []
  },
  {
   "cell_type": "code",
   "execution_count": null,
   "id": "33543159",
   "metadata": {},
   "outputs": [],
   "source": []
  },
  {
   "cell_type": "code",
   "execution_count": null,
   "id": "27816f7d",
   "metadata": {},
   "outputs": [],
   "source": []
  },
  {
   "cell_type": "code",
   "execution_count": null,
   "id": "2a2c5db5",
   "metadata": {},
   "outputs": [],
   "source": []
  },
  {
   "cell_type": "code",
   "execution_count": 96,
   "id": "936772ab",
   "metadata": {},
   "outputs": [],
   "source": [
    "import sys\n"
   ]
  },
  {
   "cell_type": "code",
   "execution_count": 44,
   "id": "32123a41",
   "metadata": {},
   "outputs": [
    {
     "name": "stdout",
     "output_type": "stream",
     "text": [
      "Connected to database successfully\n"
     ]
    }
   ],
   "source": [
    "import sqlite3\n",
    "my_conn = sqlite3.connect('test_db')\n",
    "print(\"Connected to database successfully\")"
   ]
  },
  {
   "cell_type": "code",
   "execution_count": 115,
   "id": "6998cc33",
   "metadata": {},
   "outputs": [
    {
     "name": "stdout",
     "output_type": "stream",
     "text": [
      "student table deleted\n"
     ]
    }
   ],
   "source": [
    "try:\n",
    "  my_conn.execute('''DROp table sai_book;''')\n",
    "  print(\"student table deleted\")\n",
    "except sqlite3.Error as my_error:\n",
    "  print(\"error: \",my_error) \n",
    "my_conn.commit()"
   ]
  },
  {
   "cell_type": "code",
   "execution_count": 99,
   "id": "c78ff99b",
   "metadata": {},
   "outputs": [
    {
     "name": "stdout",
     "output_type": "stream",
     "text": [
      "<class 'sqlite3.Error'>\n"
     ]
    }
   ],
   "source": [
    "try:\n",
    "    my_conn.execute('''\n",
    "        CREATE TABLE IF NOT EXISTS student(id integer primary key, \n",
    "                      name text,\n",
    "                      class text\n",
    "                      mark integer,\n",
    "                      sex text,\n",
    "                      CONSTRAINT my_Check CHECK(mark >= 10)\n",
    "                      );''')\n",
    "    my_conn.commit()\n",
    "    print(\"Student Table created successfully\")\n",
    "except sqlite3.Error as my_error:\n",
    "        val=sqlite3.Error\n",
    "        print(val)\n",
    "        if val== \"syntax_error\":\n",
    "            sys.exit()\n",
    "            print(\"The end\")\n",
    "            print(\"error: \",my_error) \n",
    "my_conn.commit()"
   ]
  },
  {
   "cell_type": "code",
   "execution_count": 100,
   "id": "f448efc1",
   "metadata": {},
   "outputs": [
    {
     "data": {
      "text/plain": [
       "<sqlite3.Cursor at 0x64a4c955e0>"
      ]
     },
     "execution_count": 100,
     "metadata": {},
     "output_type": "execute_result"
    }
   ],
   "source": [
    "my_conn.executescript(\"\"\"\n",
    "CREATE TABLE employee( \n",
    "firstname text, \n",
    "lastname text, \n",
    "age integer\n",
    ");\n",
    "CREATE TABLE Book( \n",
    "title text, \n",
    "author text \n",
    ");\n",
    "INSERT INTO \n",
    "Book(title, author) \n",
    "VALUES ( \n",
    "'Dan Clarke''s GFG Detective Agency', \n",
    "'Sean Simpsons' \n",
    ");\n",
    "INSERT INTO \n",
    "Employee(firstname,lastname,age)\n",
    "VALUES(\n",
    "'John',\n",
    "'Doe',\n",
    "27\n",
    ");\n",
    "\"\"\")"
   ]
  },
  {
   "cell_type": "code",
   "execution_count": 106,
   "id": "644cf6b6",
   "metadata": {},
   "outputs": [
    {
     "name": "stdout",
     "output_type": "stream",
     "text": [
      "('John', 'Doe', 27)\n"
     ]
    }
   ],
   "source": [
    "for row in my_conn.execute('SELECT * FROM employee'):\n",
    "        print(row)"
   ]
  },
  {
   "cell_type": "code",
   "execution_count": 116,
   "id": "c25c1ee9",
   "metadata": {},
   "outputs": [],
   "source": [
    "def executeScriptsFromFile(filename):\n",
    "    # Open and read the file as a single buffer\n",
    "    fd = open(filename, 'r')\n",
    "    sqlFile = fd.read()\n",
    "    fd.close()\n",
    "\n",
    "    # all SQL commands (split on ';')\n",
    "    sqlCommands = sqlFile.split(';')\n",
    "\n",
    "    # Execute every command from the input file\n",
    "    for command in sqlCommands:\n",
    "        # This will skip and report errors\n",
    "        # For example, if the tables do not yet exist, this will skip over\n",
    "        # the DROP TABLE commands\n",
    "        try:\n",
    "            my_conn.execute(command)\n",
    "        except msg:\n",
    "            print(\"Command skipped: \", msg)"
   ]
  },
  {
   "cell_type": "code",
   "execution_count": 118,
   "id": "11ef458c",
   "metadata": {},
   "outputs": [
    {
     "ename": "NameError",
     "evalue": "name 'msg' is not defined",
     "output_type": "error",
     "traceback": [
      "\u001b[1;31m---------------------------------------------------------------------------\u001b[0m",
      "\u001b[1;31mOperationalError\u001b[0m                          Traceback (most recent call last)",
      "\u001b[1;32m<ipython-input-116-fbd124a3ffe8>\u001b[0m in \u001b[0;36mexecuteScriptsFromFile\u001b[1;34m(filename)\u001b[0m\n\u001b[0;32m     15\u001b[0m         \u001b[1;32mtry\u001b[0m\u001b[1;33m:\u001b[0m\u001b[1;33m\u001b[0m\u001b[1;33m\u001b[0m\u001b[0m\n\u001b[1;32m---> 16\u001b[1;33m             \u001b[0mmy_conn\u001b[0m\u001b[1;33m.\u001b[0m\u001b[0mexecute\u001b[0m\u001b[1;33m(\u001b[0m\u001b[0mcommand\u001b[0m\u001b[1;33m)\u001b[0m\u001b[1;33m\u001b[0m\u001b[1;33m\u001b[0m\u001b[0m\n\u001b[0m\u001b[0;32m     17\u001b[0m         \u001b[1;32mexcept\u001b[0m \u001b[0mmsg\u001b[0m\u001b[1;33m:\u001b[0m\u001b[1;33m\u001b[0m\u001b[1;33m\u001b[0m\u001b[0m\n",
      "\u001b[1;31mOperationalError\u001b[0m: table sai already exists",
      "\nDuring handling of the above exception, another exception occurred:\n",
      "\u001b[1;31mNameError\u001b[0m                                 Traceback (most recent call last)",
      "\u001b[1;32m<ipython-input-118-bba141e6b37d>\u001b[0m in \u001b[0;36m<module>\u001b[1;34m\u001b[0m\n\u001b[1;32m----> 1\u001b[1;33m \u001b[0mexecuteScriptsFromFile\u001b[0m\u001b[1;33m(\u001b[0m\u001b[1;34m'sample.sql'\u001b[0m\u001b[1;33m)\u001b[0m\u001b[1;33m\u001b[0m\u001b[1;33m\u001b[0m\u001b[0m\n\u001b[0m",
      "\u001b[1;32m<ipython-input-116-fbd124a3ffe8>\u001b[0m in \u001b[0;36mexecuteScriptsFromFile\u001b[1;34m(filename)\u001b[0m\n\u001b[0;32m     15\u001b[0m         \u001b[1;32mtry\u001b[0m\u001b[1;33m:\u001b[0m\u001b[1;33m\u001b[0m\u001b[1;33m\u001b[0m\u001b[0m\n\u001b[0;32m     16\u001b[0m             \u001b[0mmy_conn\u001b[0m\u001b[1;33m.\u001b[0m\u001b[0mexecute\u001b[0m\u001b[1;33m(\u001b[0m\u001b[0mcommand\u001b[0m\u001b[1;33m)\u001b[0m\u001b[1;33m\u001b[0m\u001b[1;33m\u001b[0m\u001b[0m\n\u001b[1;32m---> 17\u001b[1;33m         \u001b[1;32mexcept\u001b[0m \u001b[0mmsg\u001b[0m\u001b[1;33m:\u001b[0m\u001b[1;33m\u001b[0m\u001b[1;33m\u001b[0m\u001b[0m\n\u001b[0m\u001b[0;32m     18\u001b[0m             \u001b[0mprint\u001b[0m\u001b[1;33m(\u001b[0m\u001b[1;34m\"Command skipped: \"\u001b[0m\u001b[1;33m,\u001b[0m \u001b[0mmsg\u001b[0m\u001b[1;33m)\u001b[0m\u001b[1;33m\u001b[0m\u001b[1;33m\u001b[0m\u001b[0m\n",
      "\u001b[1;31mNameError\u001b[0m: name 'msg' is not defined"
     ]
    }
   ],
   "source": [
    "executeScriptsFromFile('sample.sql')\n"
   ]
  },
  {
   "cell_type": "code",
   "execution_count": 112,
   "id": "6ad5d1e1",
   "metadata": {},
   "outputs": [
    {
     "name": "stdout",
     "output_type": "stream",
     "text": [
      "('sai', 'Doe', 27)\n"
     ]
    }
   ],
   "source": [
    "for row in my_conn.execute('SELECT * FROM sai'):\n",
    "        print(row)"
   ]
  },
  {
   "cell_type": "code",
   "execution_count": null,
   "id": "b6c4b89a",
   "metadata": {},
   "outputs": [],
   "source": []
  },
  {
   "cell_type": "code",
   "execution_count": null,
   "id": "8c1cce55",
   "metadata": {},
   "outputs": [],
   "source": []
  },
  {
   "cell_type": "code",
   "execution_count": null,
   "id": "48ade247",
   "metadata": {},
   "outputs": [],
   "source": [
    "# pip install PyGithub"
   ]
  },
  {
   "cell_type": "code",
   "execution_count": 127,
   "id": "af352282",
   "metadata": {},
   "outputs": [],
   "source": [
    "from github import Github\n",
    "g=Github(\"sairamdgr8\",\"XXXXXXXXXXXXXXX\")"
   ]
  },
  {
   "cell_type": "code",
   "execution_count": 128,
   "id": "332b4f48",
   "metadata": {},
   "outputs": [
    {
     "name": "stdout",
     "output_type": "stream",
     "text": [
      "pyspark-project-template\n"
     ]
    },
    {
     "ename": "UnknownObjectException",
     "evalue": "404 {\"message\": \"Not Found\", \"documentation_url\": \"https://docs.github.com/rest/reference/repos#update-a-repository\"}",
     "output_type": "error",
     "traceback": [
      "\u001b[1;31m---------------------------------------------------------------------------\u001b[0m",
      "\u001b[1;31mUnknownObjectException\u001b[0m                    Traceback (most recent call last)",
      "\u001b[1;32m<ipython-input-128-76b1784ed0a0>\u001b[0m in \u001b[0;36m<module>\u001b[1;34m\u001b[0m\n\u001b[0;32m      1\u001b[0m \u001b[1;32mfor\u001b[0m \u001b[0mrepo\u001b[0m \u001b[1;32min\u001b[0m \u001b[0mg\u001b[0m\u001b[1;33m.\u001b[0m\u001b[0mget_user\u001b[0m\u001b[1;33m(\u001b[0m\u001b[1;33m)\u001b[0m\u001b[1;33m.\u001b[0m\u001b[0mget_repos\u001b[0m\u001b[1;33m(\u001b[0m\u001b[1;33m)\u001b[0m\u001b[1;33m:\u001b[0m\u001b[1;33m\u001b[0m\u001b[1;33m\u001b[0m\u001b[0m\n\u001b[0;32m      2\u001b[0m     \u001b[0mprint\u001b[0m\u001b[1;33m(\u001b[0m\u001b[0mrepo\u001b[0m\u001b[1;33m.\u001b[0m\u001b[0mname\u001b[0m\u001b[1;33m)\u001b[0m\u001b[1;33m\u001b[0m\u001b[1;33m\u001b[0m\u001b[0m\n\u001b[1;32m----> 3\u001b[1;33m     \u001b[0mrepo\u001b[0m\u001b[1;33m.\u001b[0m\u001b[0medit\u001b[0m\u001b[1;33m(\u001b[0m\u001b[0mhas_wiki\u001b[0m\u001b[1;33m=\u001b[0m\u001b[1;32mFalse\u001b[0m\u001b[1;33m)\u001b[0m\u001b[1;33m\u001b[0m\u001b[1;33m\u001b[0m\u001b[0m\n\u001b[0m",
      "\u001b[1;32m~\\anaconda3\\lib\\site-packages\\github\\Repository.py\u001b[0m in \u001b[0;36medit\u001b[1;34m(self, name, description, homepage, private, has_issues, has_projects, has_wiki, has_downloads, default_branch, allow_squash_merge, allow_merge_commit, allow_rebase_merge, delete_branch_on_merge, archived)\u001b[0m\n\u001b[0;32m   1604\u001b[0m         \u001b[1;32mif\u001b[0m \u001b[0marchived\u001b[0m \u001b[1;32mis\u001b[0m \u001b[1;32mnot\u001b[0m \u001b[0mgithub\u001b[0m\u001b[1;33m.\u001b[0m\u001b[0mGithubObject\u001b[0m\u001b[1;33m.\u001b[0m\u001b[0mNotSet\u001b[0m\u001b[1;33m:\u001b[0m\u001b[1;33m\u001b[0m\u001b[1;33m\u001b[0m\u001b[0m\n\u001b[0;32m   1605\u001b[0m             \u001b[0mpost_parameters\u001b[0m\u001b[1;33m[\u001b[0m\u001b[1;34m\"archived\"\u001b[0m\u001b[1;33m]\u001b[0m \u001b[1;33m=\u001b[0m \u001b[0marchived\u001b[0m\u001b[1;33m\u001b[0m\u001b[1;33m\u001b[0m\u001b[0m\n\u001b[1;32m-> 1606\u001b[1;33m         headers, data = self._requester.requestJsonAndCheck(\n\u001b[0m\u001b[0;32m   1607\u001b[0m             \u001b[1;34m\"PATCH\"\u001b[0m\u001b[1;33m,\u001b[0m \u001b[0mself\u001b[0m\u001b[1;33m.\u001b[0m\u001b[0murl\u001b[0m\u001b[1;33m,\u001b[0m \u001b[0minput\u001b[0m\u001b[1;33m=\u001b[0m\u001b[0mpost_parameters\u001b[0m\u001b[1;33m\u001b[0m\u001b[1;33m\u001b[0m\u001b[0m\n\u001b[0;32m   1608\u001b[0m         )\n",
      "\u001b[1;32m~\\anaconda3\\lib\\site-packages\\github\\Requester.py\u001b[0m in \u001b[0;36mrequestJsonAndCheck\u001b[1;34m(self, verb, url, parameters, headers, input)\u001b[0m\n\u001b[0;32m    351\u001b[0m \u001b[1;33m\u001b[0m\u001b[0m\n\u001b[0;32m    352\u001b[0m     \u001b[1;32mdef\u001b[0m \u001b[0mrequestJsonAndCheck\u001b[0m\u001b[1;33m(\u001b[0m\u001b[0mself\u001b[0m\u001b[1;33m,\u001b[0m \u001b[0mverb\u001b[0m\u001b[1;33m,\u001b[0m \u001b[0murl\u001b[0m\u001b[1;33m,\u001b[0m \u001b[0mparameters\u001b[0m\u001b[1;33m=\u001b[0m\u001b[1;32mNone\u001b[0m\u001b[1;33m,\u001b[0m \u001b[0mheaders\u001b[0m\u001b[1;33m=\u001b[0m\u001b[1;32mNone\u001b[0m\u001b[1;33m,\u001b[0m \u001b[0minput\u001b[0m\u001b[1;33m=\u001b[0m\u001b[1;32mNone\u001b[0m\u001b[1;33m)\u001b[0m\u001b[1;33m:\u001b[0m\u001b[1;33m\u001b[0m\u001b[1;33m\u001b[0m\u001b[0m\n\u001b[1;32m--> 353\u001b[1;33m         return self.__check(\n\u001b[0m\u001b[0;32m    354\u001b[0m             *self.requestJson(\n\u001b[0;32m    355\u001b[0m                 \u001b[0mverb\u001b[0m\u001b[1;33m,\u001b[0m \u001b[0murl\u001b[0m\u001b[1;33m,\u001b[0m \u001b[0mparameters\u001b[0m\u001b[1;33m,\u001b[0m \u001b[0mheaders\u001b[0m\u001b[1;33m,\u001b[0m \u001b[0minput\u001b[0m\u001b[1;33m,\u001b[0m \u001b[0mself\u001b[0m\u001b[1;33m.\u001b[0m\u001b[0m__customConnection\u001b[0m\u001b[1;33m(\u001b[0m\u001b[0murl\u001b[0m\u001b[1;33m)\u001b[0m\u001b[1;33m\u001b[0m\u001b[1;33m\u001b[0m\u001b[0m\n",
      "\u001b[1;32m~\\anaconda3\\lib\\site-packages\\github\\Requester.py\u001b[0m in \u001b[0;36m__check\u001b[1;34m(self, status, responseHeaders, output)\u001b[0m\n\u001b[0;32m    376\u001b[0m         \u001b[0moutput\u001b[0m \u001b[1;33m=\u001b[0m \u001b[0mself\u001b[0m\u001b[1;33m.\u001b[0m\u001b[0m__structuredFromJson\u001b[0m\u001b[1;33m(\u001b[0m\u001b[0moutput\u001b[0m\u001b[1;33m)\u001b[0m\u001b[1;33m\u001b[0m\u001b[1;33m\u001b[0m\u001b[0m\n\u001b[0;32m    377\u001b[0m         \u001b[1;32mif\u001b[0m \u001b[0mstatus\u001b[0m \u001b[1;33m>=\u001b[0m \u001b[1;36m400\u001b[0m\u001b[1;33m:\u001b[0m\u001b[1;33m\u001b[0m\u001b[1;33m\u001b[0m\u001b[0m\n\u001b[1;32m--> 378\u001b[1;33m             \u001b[1;32mraise\u001b[0m \u001b[0mself\u001b[0m\u001b[1;33m.\u001b[0m\u001b[0m__createException\u001b[0m\u001b[1;33m(\u001b[0m\u001b[0mstatus\u001b[0m\u001b[1;33m,\u001b[0m \u001b[0mresponseHeaders\u001b[0m\u001b[1;33m,\u001b[0m \u001b[0moutput\u001b[0m\u001b[1;33m)\u001b[0m\u001b[1;33m\u001b[0m\u001b[1;33m\u001b[0m\u001b[0m\n\u001b[0m\u001b[0;32m    379\u001b[0m         \u001b[1;32mreturn\u001b[0m \u001b[0mresponseHeaders\u001b[0m\u001b[1;33m,\u001b[0m \u001b[0moutput\u001b[0m\u001b[1;33m\u001b[0m\u001b[1;33m\u001b[0m\u001b[0m\n\u001b[0;32m    380\u001b[0m \u001b[1;33m\u001b[0m\u001b[0m\n",
      "\u001b[1;31mUnknownObjectException\u001b[0m: 404 {\"message\": \"Not Found\", \"documentation_url\": \"https://docs.github.com/rest/reference/repos#update-a-repository\"}"
     ]
    }
   ],
   "source": [
    "for repo in g.get_user().get_repos():\n",
    "    print(repo.name)\n",
    "    repo.edit(has_wiki=False)"
   ]
  },
  {
   "cell_type": "code",
   "execution_count": 129,
   "id": "1d4976b2",
   "metadata": {},
   "outputs": [],
   "source": [
    "repos=g.search_repositories(query=\"language:python\")"
   ]
  },
  {
   "cell_type": "code",
   "execution_count": 130,
   "id": "c91d9b21",
   "metadata": {},
   "outputs": [
    {
     "name": "stdout",
     "output_type": "stream",
     "text": [
      "Repository(full_name=\"public-apis/public-apis\")\n",
      "Repository(full_name=\"donnemartin/system-design-primer\")\n",
      "Repository(full_name=\"TheAlgorithms/Python\")\n",
      "Repository(full_name=\"jackfrued/Python-100-Days\")\n",
      "Repository(full_name=\"vinta/awesome-python\")\n",
      "Repository(full_name=\"ytdl-org/youtube-dl\")\n",
      "Repository(full_name=\"tensorflow/models\")\n",
      "Repository(full_name=\"nvbn/thefuck\")\n",
      "Repository(full_name=\"django/django\")\n",
      "Repository(full_name=\"pallets/flask\")\n",
      "Repository(full_name=\"huggingface/transformers\")\n",
      "Repository(full_name=\"keras-team/keras\")\n",
      "Repository(full_name=\"josephmisiti/awesome-machine-learning\")\n",
      "Repository(full_name=\"ansible/ansible\")\n",
      "Repository(full_name=\"521xueweihan/HelloGitHub\")\n",
      "Repository(full_name=\"scikit-learn/scikit-learn\")\n",
      "Repository(full_name=\"home-assistant/core\")\n",
      "Repository(full_name=\"psf/requests\")\n",
      "Repository(full_name=\"soimort/you-get\")\n",
      "Repository(full_name=\"scrapy/scrapy\")\n",
      "Repository(full_name=\"apache/superset\")\n",
      "Repository(full_name=\"minimaxir/big-list-of-naughty-strings\")\n",
      "Repository(full_name=\"python/cpython\")\n",
      "Repository(full_name=\"deepfakes/faceswap\")\n",
      "Repository(full_name=\"3b1b/manim\")\n",
      "Repository(full_name=\"tiangolo/fastapi\")\n",
      "Repository(full_name=\"fighting41love/funNLP\")\n",
      "Repository(full_name=\"shadowsocks/shadowsocks\")\n",
      "Repository(full_name=\"0voice/interview_internal_reference\")\n",
      "Repository(full_name=\"isocpp/CppCoreGuidelines\")\n",
      "Repository(full_name=\"pandas-dev/pandas\")\n",
      "Repository(full_name=\"CorentinJ/Real-Time-Voice-Cloning\")\n",
      "Repository(full_name=\"willmcgugan/rich\")\n",
      "Repository(full_name=\"XX-net/XX-Net\")\n",
      "Repository(full_name=\"floodsung/Deep-Learning-Papers-Reading-Roadmap\")\n",
      "Repository(full_name=\"testerSunshine/12306\")\n",
      "Repository(full_name=\"iperov/DeepFaceLab\")\n",
      "Repository(full_name=\"google-research/bert\")\n",
      "Repository(full_name=\"faif/python-patterns\")\n",
      "Repository(full_name=\"getsentry/sentry\")\n",
      "Repository(full_name=\"sherlock-project/sherlock\")\n",
      "Repository(full_name=\"d2l-ai/d2l-zh\")\n",
      "Repository(full_name=\"satwikkansal/wtfpython\")\n",
      "Repository(full_name=\"fxsjy/jieba\")\n",
      "Repository(full_name=\"openai/gym\")\n",
      "Repository(full_name=\"gto76/python-cheatsheet\")\n",
      "Repository(full_name=\"mitmproxy/mitmproxy\")\n",
      "Repository(full_name=\"facebookresearch/Detectron\")\n",
      "Repository(full_name=\"hankcs/HanLP\")\n",
      "Repository(full_name=\"geekcomputers/Python\")\n",
      "Repository(full_name=\"donnemartin/interactive-coding-challenges\")\n",
      "Repository(full_name=\"trailofbits/algo\")\n",
      "Repository(full_name=\"0xAX/linux-insides\")\n",
      "Repository(full_name=\"apache/airflow\")\n",
      "Repository(full_name=\"psf/black\")\n",
      "Repository(full_name=\"pypa/pipenv\")\n",
      "Repository(full_name=\"encode/django-rest-framework\")\n",
      "Repository(full_name=\"yunjey/pytorch-tutorial\")\n",
      "Repository(full_name=\"littlecodersh/ItChat\")\n",
      "Repository(full_name=\"donnemartin/data-science-ipython-notebooks\")\n",
      "Repository(full_name=\"StevenBlack/hosts\")\n",
      "Repository(full_name=\"OWASP/CheatSheetSeries\")\n",
      "Repository(full_name=\"facebookresearch/detectron2\")\n",
      "Repository(full_name=\"numpy/numpy\")\n",
      "Repository(full_name=\"ultralytics/yolov5\")\n",
      "Repository(full_name=\"drduh/macOS-Security-and-Privacy-Guide\")\n",
      "Repository(full_name=\"celery/celery\")\n",
      "Repository(full_name=\"ray-project/ray\")\n",
      "Repository(full_name=\"deezer/spleeter\")\n",
      "Repository(full_name=\"locustio/locust\")\n",
      "Repository(full_name=\"jumpserver/jumpserver\")\n",
      "Repository(full_name=\"pytorch/examples\")\n",
      "Repository(full_name=\"open-mmlab/mmdetection\")\n",
      "Repository(full_name=\"magenta/magenta\")\n",
      "Repository(full_name=\"python-poetry/poetry\")\n",
      "Repository(full_name=\"PaddlePaddle/Paddle\")\n",
      "Repository(full_name=\"python-telegram-bot/python-telegram-bot\")\n",
      "Repository(full_name=\"PyTorchLightning/pytorch-lightning\")\n",
      "Repository(full_name=\"junyanz/pytorch-CycleGAN-and-pix2pix\")\n",
      "Repository(full_name=\"chubin/wttr.in\")\n",
      "Repository(full_name=\"toml-lang/toml\")\n",
      "Repository(full_name=\"tzutalin/labelImg\")\n",
      "Repository(full_name=\"bokeh/bokeh\")\n",
      "Repository(full_name=\"cookiecutter/cookiecutter\")\n",
      "Repository(full_name=\"nginx-proxy/nginx-proxy\")\n",
      "Repository(full_name=\"plotly/dash\")\n",
      "Repository(full_name=\"binux/pyspider\")\n",
      "Repository(full_name=\"spotify/luigi\")\n",
      "Repository(full_name=\"openai/gpt-2\")\n",
      "Repository(full_name=\"google/jax\")\n",
      "Repository(full_name=\"python-poetry/poetry\")\n",
      "Repository(full_name=\"PaddlePaddle/Paddle\")\n",
      "Repository(full_name=\"python-telegram-bot/python-telegram-bot\")\n",
      "Repository(full_name=\"PyTorchLightning/pytorch-lightning\")\n",
      "Repository(full_name=\"junyanz/pytorch-CycleGAN-and-pix2pix\")\n",
      "Repository(full_name=\"chubin/wttr.in\")\n",
      "Repository(full_name=\"toml-lang/toml\")\n",
      "Repository(full_name=\"reddit-archive/reddit\")\n",
      "Repository(full_name=\"charlax/professional-programming\")\n",
      "Repository(full_name=\"tzutalin/labelImg\")\n",
      "Repository(full_name=\"bokeh/bokeh\")\n",
      "Repository(full_name=\"cookiecutter/cookiecutter\")\n",
      "Repository(full_name=\"sanic-org/sanic\")\n",
      "Repository(full_name=\"nginx-proxy/nginx-proxy\")\n",
      "Repository(full_name=\"plotly/dash\")\n",
      "Repository(full_name=\"binux/pyspider\")\n",
      "Repository(full_name=\"spotify/luigi\")\n",
      "Repository(full_name=\"openai/gpt-2\")\n",
      "Repository(full_name=\"google/jax\")\n",
      "Repository(full_name=\"ipython/ipython\")\n",
      "Repository(full_name=\"cool-RR/PySnooper\")\n",
      "Repository(full_name=\"shimohq/chinese-programmer-wrong-pronunciation\")\n",
      "Repository(full_name=\"quantopian/zipline\")\n",
      "Repository(full_name=\"rwightman/pytorch-image-models\")\n",
      "Repository(full_name=\"matplotlib/matplotlib\")\n",
      "Repository(full_name=\"pytorch/fairseq\")\n",
      "Repository(full_name=\"saleor/saleor\")\n",
      "Repository(full_name=\"zulip/zulip\")\n",
      "Repository(full_name=\"alievk/avatarify-python\")\n",
      "Repository(full_name=\"Jack-Cherish/python-spider\")\n",
      "Repository(full_name=\"rwightman/pytorch-image-models\")\n",
      "Repository(full_name=\"matplotlib/matplotlib\")\n",
      "Repository(full_name=\"pytorch/fairseq\")\n",
      "Repository(full_name=\"saleor/saleor\")\n",
      "Repository(full_name=\"zulip/zulip\")\n",
      "Repository(full_name=\"alievk/avatarify-python\")\n",
      "Repository(full_name=\"Jack-Cherish/python-spider\")\n",
      "Repository(full_name=\"magic-wormhole/magic-wormhole\")\n",
      "Repository(full_name=\"wangshub/wechat_jump_game\")\n",
      "Repository(full_name=\"Kr1s77/awesome-python-login-model\")\n",
      "Repository(full_name=\"miloyip/game-programmer\")\n",
      "Repository(full_name=\"facebook/prophet\")\n",
      "Repository(full_name=\"kivy/kivy\")\n",
      "Repository(full_name=\"InstaPy/InstaPy\")\n",
      "Repository(full_name=\"freqtrade/freqtrade\")\n",
      "Repository(full_name=\"Eloston/ungoogled-chromium\")\n",
      "Repository(full_name=\"rsms/inter\")\n",
      "Repository(full_name=\"mkdocs/mkdocs\")\n",
      "Repository(full_name=\"wting/autojump\")\n",
      "Repository(full_name=\"fabric/fabric\")\n",
      "Repository(full_name=\"pyg-team/pytorch_geometric\")\n",
      "Repository(full_name=\"JaidedAI/EasyOCR\")\n",
      "Repository(full_name=\"RasaHQ/rasa\")\n",
      "Repository(full_name=\"youfou/wxpy\")\n",
      "Repository(full_name=\"mnielsen/neural-networks-and-deep-learning\")\n",
      "Repository(full_name=\"jupyter/jupyter\")\n",
      "Repository(full_name=\"powerline/powerline\")\n",
      "Repository(full_name=\"kovidgoyal/kitty\")\n",
      "Repository(full_name=\"RaRe-Technologies/gensim\")\n",
      "Repository(full_name=\"h2y/Shadowrocket-ADBlock-Rules\")\n",
      "Repository(full_name=\"allenai/allennlp\")\n",
      "Repository(full_name=\"mail-in-a-box/mailinabox\")\n",
      "Repository(full_name=\"microsoft/nni\")\n",
      "Repository(full_name=\"ranger/ranger\")\n",
      "Repository(full_name=\"plotly/plotly.py\")\n",
      "Repository(full_name=\"ansible/awx\")\n",
      "Repository(full_name=\"mxrch/GHunt\")\n",
      "Repository(full_name=\"postmanlabs/httpbin\")\n",
      "Repository(full_name=\"pytorch/vision\")\n",
      "Repository(full_name=\"Delgan/loguru\")\n",
      "Repository(full_name=\"nltk/nltk\")\n",
      "Repository(full_name=\"lengstrom/fast-style-transfer\")\n",
      "Repository(full_name=\"MobSF/Mobile-Security-Framework-MobSF\")\n",
      "Repository(full_name=\"frappe/erpnext\")\n",
      "Repository(full_name=\"Vonng/ddia\")\n",
      "Repository(full_name=\"dbcli/mycli\")\n",
      "Repository(full_name=\"searx/searx\")\n",
      "Repository(full_name=\"networkx/networkx\")\n",
      "Repository(full_name=\"donnemartin/awesome-aws\")\n",
      "Repository(full_name=\"redis/redis-py\")\n",
      "Repository(full_name=\"s0md3v/XSStrike\")\n",
      "Repository(full_name=\"hanxiao/bert-as-service\")\n",
      "Repository(full_name=\"ankitects/anki\")\n",
      "Repository(full_name=\"zalandoresearch/fashion-mnist\")\n",
      "Repository(full_name=\"MorvanZhou/tutorials\")\n",
      "Repository(full_name=\"Theano/Theano\")\n",
      "Repository(full_name=\"Embedding/Chinese-Word-Vectors\")\n",
      "Repository(full_name=\"nbedos/termtosvg\")\n",
      "Repository(full_name=\"dask/dask\")\n",
      "Repository(full_name=\"dbader/schedule\")\n",
      "Repository(full_name=\"yt-dlp/yt-dlp\")\n",
      "Repository(full_name=\"eriklindernoren/PyTorch-GAN\")\n",
      "Repository(full_name=\"mlflow/mlflow\")\n",
      "Repository(full_name=\"NVIDIA/FastPhotoStyle\")\n",
      "Repository(full_name=\"SFTtech/openage\")\n",
      "Repository(full_name=\"shengqiangzhang/examples-of-web-crawlers\")\n",
      "Repository(full_name=\"allenai/allennlp\")\n",
      "Repository(full_name=\"mail-in-a-box/mailinabox\")\n",
      "Repository(full_name=\"microsoft/nni\")\n",
      "Repository(full_name=\"ranger/ranger\")\n",
      "Repository(full_name=\"plotly/plotly.py\")\n",
      "Repository(full_name=\"beetbox/beets\")\n",
      "Repository(full_name=\"ansible/awx\")\n",
      "Repository(full_name=\"postmanlabs/httpbin\")\n",
      "Repository(full_name=\"pytorch/vision\")\n",
      "Repository(full_name=\"Delgan/loguru\")\n",
      "Repository(full_name=\"hoya012/deep_learning_object_detection\")\n",
      "Repository(full_name=\"nltk/nltk\")\n",
      "Repository(full_name=\"wifiphisher/wifiphisher\")\n",
      "Repository(full_name=\"lengstrom/fast-style-transfer\")\n",
      "Repository(full_name=\"chiphuyen/stanford-tensorflow-tutorials\")\n",
      "Repository(full_name=\"MobSF/Mobile-Security-Framework-MobSF\")\n",
      "Repository(full_name=\"frappe/erpnext\")\n",
      "Repository(full_name=\"Vonng/ddia\")\n",
      "Repository(full_name=\"dbcli/mycli\")\n",
      "Repository(full_name=\"idank/explainshell\")\n",
      "Repository(full_name=\"searx/searx\")\n",
      "Repository(full_name=\"networkx/networkx\")\n",
      "Repository(full_name=\"dbcli/pgcli\")\n",
      "Repository(full_name=\"donnemartin/awesome-aws\")\n"
     ]
    },
    {
     "name": "stdout",
     "output_type": "stream",
     "text": [
      "Repository(full_name=\"redis/redis-py\")\n",
      "Repository(full_name=\"threat9/routersploit\")\n",
      "Repository(full_name=\"hanxiao/bert-as-service\")\n",
      "Repository(full_name=\"ankitects/anki\")\n",
      "Repository(full_name=\"asciinema/asciinema\")\n",
      "Repository(full_name=\"alexjc/neural-doodle\")\n",
      "Repository(full_name=\"zalandoresearch/fashion-mnist\")\n",
      "Repository(full_name=\"tflearn/tflearn\")\n",
      "Repository(full_name=\"MorvanZhou/tutorials\")\n",
      "Repository(full_name=\"Chia-Network/chia-blockchain\")\n",
      "Repository(full_name=\"Embedding/Chinese-Word-Vectors\")\n",
      "Repository(full_name=\"microsoft/Bringing-Old-Photos-Back-to-Life\")\n",
      "Repository(full_name=\"nbedos/termtosvg\")\n",
      "Repository(full_name=\"netbox-community/netbox\")\n",
      "Repository(full_name=\"dask/dask\")\n",
      "Repository(full_name=\"dbader/schedule\")\n",
      "Repository(full_name=\"albumentations-team/albumentations\")\n",
      "Repository(full_name=\"vipstone/faceai\")\n",
      "Repository(full_name=\"Rapptz/discord.py\")\n",
      "Repository(full_name=\"python-pillow/Pillow\")\n",
      "Repository(full_name=\"darknessomi/musicbox\")\n",
      "Repository(full_name=\"deepmind/sonnet\")\n",
      "Repository(full_name=\"lyhue1991/eat_tensorflow2_in_30_days\")\n",
      "Repository(full_name=\"apenwarr/sshuttle\")\n",
      "Repository(full_name=\"Ciphey/Ciphey\")\n",
      "Repository(full_name=\"mwaskom/seaborn\")\n",
      "Repository(full_name=\"iterative/dvc\")\n",
      "Repository(full_name=\"programthink/zhao\")\n",
      "Repository(full_name=\"scipy/scipy\")\n",
      "Repository(full_name=\"PySimpleGUI/PySimpleGUI\")\n",
      "Repository(full_name=\"belluzj/fantasque-sans\")\n",
      "Repository(full_name=\"microsoft/nlp-recipes\")\n",
      "Repository(full_name=\"dwyl/english-words\")\n",
      "Repository(full_name=\"asweigart/pyautogui\")\n",
      "Repository(full_name=\"Shougo/deoplete.nvim\")\n",
      "Repository(full_name=\"xchaoinfo/fuck-login\")\n",
      "Repository(full_name=\"rushter/data-science-blogs\")\n",
      "Repository(full_name=\"jiaaro/pydub\")\n",
      "Repository(full_name=\"frostming/legit\")\n",
      "Repository(full_name=\"matplotlib/cheatsheets\")\n",
      "Repository(full_name=\"lancopku/pkuseg-python\")\n",
      "Repository(full_name=\"edeng23/binance-trade-bot\")\n",
      "Repository(full_name=\"princewen/tensorflow_practice\")\n",
      "Repository(full_name=\"isnowfy/snownlp\")\n",
      "Repository(full_name=\"chrissimpkins/codeface\")\n",
      "Repository(full_name=\"shenweichen/DeepCTR\")\n",
      "Repository(full_name=\"snare/voltron\")\n",
      "Repository(full_name=\"scikit-learn-contrib/imbalanced-learn\")\n",
      "Repository(full_name=\"simonw/datasette\")\n",
      "Repository(full_name=\"arc298/instagram-scraper\")\n",
      "Repository(full_name=\"donnemartin/dev-setup\")\n",
      "Repository(full_name=\"cupy/cupy\")\n",
      "Repository(full_name=\"Dman95/SASM\")\n",
      "Repository(full_name=\"optuna/optuna\")\n",
      "Repository(full_name=\"pytorch/tutorials\")\n",
      "Repository(full_name=\"jarun/googler\")\n",
      "Repository(full_name=\"vt-vl-lab/3d-photo-inpainting\")\n",
      "Repository(full_name=\"HypothesisWorks/hypothesis\")\n",
      "Repository(full_name=\"angr/angr\")\n",
      "Repository(full_name=\"doccano/doccano\")\n",
      "Repository(full_name=\"pallets/jinja\")\n",
      "Repository(full_name=\"clips/pattern\")\n",
      "Repository(full_name=\"samuelcolvin/pydantic\")\n",
      "Repository(full_name=\"ultralytics/yolov3\")\n",
      "Repository(full_name=\"wilsonfreitas/awesome-quant\")\n",
      "Repository(full_name=\"ludwig-ai/ludwig\")\n",
      "Repository(full_name=\"Python-World/python-mini-projects\")\n",
      "Repository(full_name=\"pytest-dev/pytest\")\n",
      "Repository(full_name=\"benoitc/gunicorn\")\n",
      "Repository(full_name=\"sloria/TextBlob\")\n",
      "Repository(full_name=\"encode/httpx\")\n",
      "Repository(full_name=\"facebookresearch/detr\")\n",
      "Repository(full_name=\"nodejs/node-gyp\")\n",
      "Repository(full_name=\"Yorko/mlcourse.ai\")\n",
      "Repository(full_name=\"SecureAuthCorp/impacket\")\n",
      "Repository(full_name=\"Asabeneh/30-Days-Of-Python\")\n",
      "Repository(full_name=\"ReFirmLabs/binwalk\")\n",
      "Repository(full_name=\"giampaolo/psutil\")\n",
      "Repository(full_name=\"NVIDIA/vid2vid\")\n",
      "Repository(full_name=\"MrS0m30n3/youtube-dl-gui\")\n",
      "Repository(full_name=\"aristocratos/bpytop\")\n",
      "Repository(full_name=\"PrefectHQ/prefect\")\n",
      "Repository(full_name=\"hardikvasa/google-images-download\")\n",
      "Repository(full_name=\"30-seconds/30-seconds-of-python\")\n",
      "Repository(full_name=\"ManimCommunity/manim\")\n",
      "Repository(full_name=\"ytisf/theZoo\")\n",
      "Repository(full_name=\"cyrus-and/gdb-dashboard\")\n",
      "Repository(full_name=\"jopohl/urh\")\n",
      "Repository(full_name=\"mementum/backtrader\")\n",
      "Repository(full_name=\"the-paperless-project/paperless\")\n",
      "Repository(full_name=\"openai/universe\")\n",
      "Repository(full_name=\"deepmind/alphafold\")\n",
      "Repository(full_name=\"NVIDIA/DeepLearningExamples\")\n",
      "Repository(full_name=\"Z4nzu/hackingtool\")\n",
      "Repository(full_name=\"mopidy/mopidy\")\n",
      "Repository(full_name=\"larsenwork/monoid\")\n",
      "Repository(full_name=\"pyro-ppl/pyro\")\n",
      "Repository(full_name=\"PaddlePaddle/PaddleHub\")\n",
      "Repository(full_name=\"Manisso/fsociety\")\n",
      "Repository(full_name=\"lanpa/tensorboardX\")\n",
      "Repository(full_name=\"lbryio/lbry-sdk\")\n",
      "Repository(full_name=\"alicevision/meshroom\")\n",
      "Repository(full_name=\"brightmart/text_classification\")\n",
      "Repository(full_name=\"maurosoria/dirsearch\")\n",
      "Repository(full_name=\"vishnubob/wait-for-it\")\n",
      "Repository(full_name=\"microsoft/qlib\")\n",
      "Repository(full_name=\"pittcsc/Summer2022-Internships\")\n",
      "Repository(full_name=\"Supervisor/supervisor\")\n",
      "Repository(full_name=\"trustedsec/social-engineer-toolkit\")\n",
      "Repository(full_name=\"baowenbo/DAIN\")\n",
      "Repository(full_name=\"fchollet/deep-learning-models\")\n",
      "Repository(full_name=\"heartexlabs/label-studio\")\n",
      "Repository(full_name=\"a1studmuffin/SpaceshipGenerator\")\n",
      "Repository(full_name=\"crazyguitar/pysheeet\")\n",
      "Repository(full_name=\"mps-youtube/mps-youtube\")\n",
      "Repository(full_name=\"graphql-python/graphene\")\n",
      "Repository(full_name=\"Urinx/WeixinBot\")\n",
      "Repository(full_name=\"pyodide/pyodide\")\n",
      "Repository(full_name=\"qqwweee/keras-yolo3\")\n",
      "Repository(full_name=\"luyishisi/Anti-Anti-Spider\")\n",
      "Repository(full_name=\"fail2ban/fail2ban\")\n",
      "Repository(full_name=\"tiangolo/typer\")\n",
      "Repository(full_name=\"jwyang/faster-rcnn.pytorch\")\n",
      "Repository(full_name=\"google/trax\")\n",
      "Repository(full_name=\"evilsocket/opensnitch\")\n",
      "Repository(full_name=\"modin-project/modin\")\n",
      "Repository(full_name=\"lucidrains/vit-pytorch\")\n",
      "Repository(full_name=\"xinntao/Real-ESRGAN\")\n",
      "Repository(full_name=\"cython/cython\")\n",
      "Repository(full_name=\"schollz/howmanypeoplearearound\")\n",
      "Repository(full_name=\"joelgrus/data-science-from-scratch\")\n",
      "Repository(full_name=\"boto/boto\")\n",
      "Repository(full_name=\"UKPLab/sentence-transformers\")\n",
      "Repository(full_name=\"jupyterhub/jupyterhub\")\n",
      "Repository(full_name=\"robotframework/robotframework\")\n",
      "Repository(full_name=\"rwv/chinese-dos-games\")\n",
      "Repository(full_name=\"iGhibli/iOS-DeviceSupport\")\n",
      "Repository(full_name=\"SirVer/ultisnips\")\n",
      "Repository(full_name=\"openai/spinningup\")\n",
      "Repository(full_name=\"p-e-w/maybe\")\n",
      "Repository(full_name=\"eriklindernoren/PyTorch-YOLOv3\")\n",
      "Repository(full_name=\"awslabs/aws-shell\")\n",
      "Repository(full_name=\"jupyter/docker-stacks\")\n",
      "Repository(full_name=\"axi0mX/ipwndfu\")\n",
      "Repository(full_name=\"taobao/nginx-book\")\n",
      "Repository(full_name=\"facebookresearch/pytext\")\n",
      "Repository(full_name=\"github/copilot-docs\")\n",
      "Repository(full_name=\"PaddlePaddle/models\")\n",
      "Repository(full_name=\"lebinh/ngxtop\")\n",
      "Repository(full_name=\"ymcui/Chinese-BERT-wwm\")\n",
      "Repository(full_name=\"google/trax\")\n",
      "Repository(full_name=\"evilsocket/opensnitch\")\n",
      "Repository(full_name=\"modin-project/modin\")\n",
      "Repository(full_name=\"lucidrains/vit-pytorch\")\n",
      "Repository(full_name=\"xinntao/Real-ESRGAN\")\n",
      "Repository(full_name=\"cython/cython\")\n",
      "Repository(full_name=\"schollz/howmanypeoplearearound\")\n",
      "Repository(full_name=\"joelgrus/data-science-from-scratch\")\n",
      "Repository(full_name=\"boto/boto\")\n",
      "Repository(full_name=\"UKPLab/sentence-transformers\")\n",
      "Repository(full_name=\"jupyterhub/jupyterhub\")\n",
      "Repository(full_name=\"robotframework/robotframework\")\n",
      "Repository(full_name=\"rwv/chinese-dos-games\")\n",
      "Repository(full_name=\"iGhibli/iOS-DeviceSupport\")\n",
      "Repository(full_name=\"SirVer/ultisnips\")\n",
      "Repository(full_name=\"openai/spinningup\")\n",
      "Repository(full_name=\"p-e-w/maybe\")\n",
      "Repository(full_name=\"eriklindernoren/PyTorch-YOLOv3\")\n",
      "Repository(full_name=\"awslabs/aws-shell\")\n",
      "Repository(full_name=\"jupyter/docker-stacks\")\n",
      "Repository(full_name=\"axi0mX/ipwndfu\")\n",
      "Repository(full_name=\"taobao/nginx-book\")\n",
      "Repository(full_name=\"facebookresearch/pytext\")\n",
      "Repository(full_name=\"github/copilot-docs\")\n",
      "Repository(full_name=\"PaddlePaddle/models\")\n",
      "Repository(full_name=\"lebinh/ngxtop\")\n",
      "Repository(full_name=\"ymcui/Chinese-BERT-wwm\")\n",
      "Repository(full_name=\"OctoPrint/OctoPrint\")\n",
      "Repository(full_name=\"pymc-devs/pymc\")\n",
      "Repository(full_name=\"mvt-project/mvt\")\n"
     ]
    },
    {
     "ename": "RateLimitExceededException",
     "evalue": "403 {\"documentation_url\": \"https://docs.github.com/en/free-pro-team@latest/rest/overview/resources-in-the-rest-api#secondary-rate-limits\", \"message\": \"You have exceeded a secondary rate limit. Please wait a few minutes before you try again.\"}",
     "output_type": "error",
     "traceback": [
      "\u001b[1;31m---------------------------------------------------------------------------\u001b[0m",
      "\u001b[1;31mRateLimitExceededException\u001b[0m                Traceback (most recent call last)",
      "\u001b[1;32m<ipython-input-130-6666b18d907f>\u001b[0m in \u001b[0;36m<module>\u001b[1;34m\u001b[0m\n\u001b[1;32m----> 1\u001b[1;33m \u001b[1;32mfor\u001b[0m  \u001b[0mrepo\u001b[0m \u001b[1;32min\u001b[0m \u001b[0mrepos\u001b[0m\u001b[1;33m:\u001b[0m\u001b[1;33m\u001b[0m\u001b[1;33m\u001b[0m\u001b[0m\n\u001b[0m\u001b[0;32m      2\u001b[0m     \u001b[0mprint\u001b[0m\u001b[1;33m(\u001b[0m\u001b[0mrepo\u001b[0m\u001b[1;33m)\u001b[0m\u001b[1;33m\u001b[0m\u001b[1;33m\u001b[0m\u001b[0m\n",
      "\u001b[1;32m~\\anaconda3\\lib\\site-packages\\github\\PaginatedList.py\u001b[0m in \u001b[0;36m__iter__\u001b[1;34m(self)\u001b[0m\n\u001b[0;32m     54\u001b[0m         \u001b[1;32myield\u001b[0m \u001b[1;32mfrom\u001b[0m \u001b[0mself\u001b[0m\u001b[1;33m.\u001b[0m\u001b[0m__elements\u001b[0m\u001b[1;33m\u001b[0m\u001b[1;33m\u001b[0m\u001b[0m\n\u001b[0;32m     55\u001b[0m         \u001b[1;32mwhile\u001b[0m \u001b[0mself\u001b[0m\u001b[1;33m.\u001b[0m\u001b[0m_couldGrow\u001b[0m\u001b[1;33m(\u001b[0m\u001b[1;33m)\u001b[0m\u001b[1;33m:\u001b[0m\u001b[1;33m\u001b[0m\u001b[1;33m\u001b[0m\u001b[0m\n\u001b[1;32m---> 56\u001b[1;33m             \u001b[0mnewElements\u001b[0m \u001b[1;33m=\u001b[0m \u001b[0mself\u001b[0m\u001b[1;33m.\u001b[0m\u001b[0m_grow\u001b[0m\u001b[1;33m(\u001b[0m\u001b[1;33m)\u001b[0m\u001b[1;33m\u001b[0m\u001b[1;33m\u001b[0m\u001b[0m\n\u001b[0m\u001b[0;32m     57\u001b[0m             \u001b[1;32myield\u001b[0m \u001b[1;32mfrom\u001b[0m \u001b[0mnewElements\u001b[0m\u001b[1;33m\u001b[0m\u001b[1;33m\u001b[0m\u001b[0m\n\u001b[0;32m     58\u001b[0m \u001b[1;33m\u001b[0m\u001b[0m\n",
      "\u001b[1;32m~\\anaconda3\\lib\\site-packages\\github\\PaginatedList.py\u001b[0m in \u001b[0;36m_grow\u001b[1;34m(self)\u001b[0m\n\u001b[0;32m     65\u001b[0m \u001b[1;33m\u001b[0m\u001b[0m\n\u001b[0;32m     66\u001b[0m     \u001b[1;32mdef\u001b[0m \u001b[0m_grow\u001b[0m\u001b[1;33m(\u001b[0m\u001b[0mself\u001b[0m\u001b[1;33m)\u001b[0m\u001b[1;33m:\u001b[0m\u001b[1;33m\u001b[0m\u001b[1;33m\u001b[0m\u001b[0m\n\u001b[1;32m---> 67\u001b[1;33m         \u001b[0mnewElements\u001b[0m \u001b[1;33m=\u001b[0m \u001b[0mself\u001b[0m\u001b[1;33m.\u001b[0m\u001b[0m_fetchNextPage\u001b[0m\u001b[1;33m(\u001b[0m\u001b[1;33m)\u001b[0m\u001b[1;33m\u001b[0m\u001b[1;33m\u001b[0m\u001b[0m\n\u001b[0m\u001b[0;32m     68\u001b[0m         \u001b[0mself\u001b[0m\u001b[1;33m.\u001b[0m\u001b[0m__elements\u001b[0m \u001b[1;33m+=\u001b[0m \u001b[0mnewElements\u001b[0m\u001b[1;33m\u001b[0m\u001b[1;33m\u001b[0m\u001b[0m\n\u001b[0;32m     69\u001b[0m         \u001b[1;32mreturn\u001b[0m \u001b[0mnewElements\u001b[0m\u001b[1;33m\u001b[0m\u001b[1;33m\u001b[0m\u001b[0m\n",
      "\u001b[1;32m~\\anaconda3\\lib\\site-packages\\github\\PaginatedList.py\u001b[0m in \u001b[0;36m_fetchNextPage\u001b[1;34m(self)\u001b[0m\n\u001b[0;32m    197\u001b[0m \u001b[1;33m\u001b[0m\u001b[0m\n\u001b[0;32m    198\u001b[0m     \u001b[1;32mdef\u001b[0m \u001b[0m_fetchNextPage\u001b[0m\u001b[1;33m(\u001b[0m\u001b[0mself\u001b[0m\u001b[1;33m)\u001b[0m\u001b[1;33m:\u001b[0m\u001b[1;33m\u001b[0m\u001b[1;33m\u001b[0m\u001b[0m\n\u001b[1;32m--> 199\u001b[1;33m         headers, data = self.__requester.requestJsonAndCheck(\n\u001b[0m\u001b[0;32m    200\u001b[0m             \u001b[1;34m\"GET\"\u001b[0m\u001b[1;33m,\u001b[0m \u001b[0mself\u001b[0m\u001b[1;33m.\u001b[0m\u001b[0m__nextUrl\u001b[0m\u001b[1;33m,\u001b[0m \u001b[0mparameters\u001b[0m\u001b[1;33m=\u001b[0m\u001b[0mself\u001b[0m\u001b[1;33m.\u001b[0m\u001b[0m__nextParams\u001b[0m\u001b[1;33m,\u001b[0m \u001b[0mheaders\u001b[0m\u001b[1;33m=\u001b[0m\u001b[0mself\u001b[0m\u001b[1;33m.\u001b[0m\u001b[0m__headers\u001b[0m\u001b[1;33m\u001b[0m\u001b[1;33m\u001b[0m\u001b[0m\n\u001b[0;32m    201\u001b[0m         )\n",
      "\u001b[1;32m~\\anaconda3\\lib\\site-packages\\github\\Requester.py\u001b[0m in \u001b[0;36mrequestJsonAndCheck\u001b[1;34m(self, verb, url, parameters, headers, input)\u001b[0m\n\u001b[0;32m    351\u001b[0m \u001b[1;33m\u001b[0m\u001b[0m\n\u001b[0;32m    352\u001b[0m     \u001b[1;32mdef\u001b[0m \u001b[0mrequestJsonAndCheck\u001b[0m\u001b[1;33m(\u001b[0m\u001b[0mself\u001b[0m\u001b[1;33m,\u001b[0m \u001b[0mverb\u001b[0m\u001b[1;33m,\u001b[0m \u001b[0murl\u001b[0m\u001b[1;33m,\u001b[0m \u001b[0mparameters\u001b[0m\u001b[1;33m=\u001b[0m\u001b[1;32mNone\u001b[0m\u001b[1;33m,\u001b[0m \u001b[0mheaders\u001b[0m\u001b[1;33m=\u001b[0m\u001b[1;32mNone\u001b[0m\u001b[1;33m,\u001b[0m \u001b[0minput\u001b[0m\u001b[1;33m=\u001b[0m\u001b[1;32mNone\u001b[0m\u001b[1;33m)\u001b[0m\u001b[1;33m:\u001b[0m\u001b[1;33m\u001b[0m\u001b[1;33m\u001b[0m\u001b[0m\n\u001b[1;32m--> 353\u001b[1;33m         return self.__check(\n\u001b[0m\u001b[0;32m    354\u001b[0m             *self.requestJson(\n\u001b[0;32m    355\u001b[0m                 \u001b[0mverb\u001b[0m\u001b[1;33m,\u001b[0m \u001b[0murl\u001b[0m\u001b[1;33m,\u001b[0m \u001b[0mparameters\u001b[0m\u001b[1;33m,\u001b[0m \u001b[0mheaders\u001b[0m\u001b[1;33m,\u001b[0m \u001b[0minput\u001b[0m\u001b[1;33m,\u001b[0m \u001b[0mself\u001b[0m\u001b[1;33m.\u001b[0m\u001b[0m__customConnection\u001b[0m\u001b[1;33m(\u001b[0m\u001b[0murl\u001b[0m\u001b[1;33m)\u001b[0m\u001b[1;33m\u001b[0m\u001b[1;33m\u001b[0m\u001b[0m\n",
      "\u001b[1;32m~\\anaconda3\\lib\\site-packages\\github\\Requester.py\u001b[0m in \u001b[0;36m__check\u001b[1;34m(self, status, responseHeaders, output)\u001b[0m\n\u001b[0;32m    376\u001b[0m         \u001b[0moutput\u001b[0m \u001b[1;33m=\u001b[0m \u001b[0mself\u001b[0m\u001b[1;33m.\u001b[0m\u001b[0m__structuredFromJson\u001b[0m\u001b[1;33m(\u001b[0m\u001b[0moutput\u001b[0m\u001b[1;33m)\u001b[0m\u001b[1;33m\u001b[0m\u001b[1;33m\u001b[0m\u001b[0m\n\u001b[0;32m    377\u001b[0m         \u001b[1;32mif\u001b[0m \u001b[0mstatus\u001b[0m \u001b[1;33m>=\u001b[0m \u001b[1;36m400\u001b[0m\u001b[1;33m:\u001b[0m\u001b[1;33m\u001b[0m\u001b[1;33m\u001b[0m\u001b[0m\n\u001b[1;32m--> 378\u001b[1;33m             \u001b[1;32mraise\u001b[0m \u001b[0mself\u001b[0m\u001b[1;33m.\u001b[0m\u001b[0m__createException\u001b[0m\u001b[1;33m(\u001b[0m\u001b[0mstatus\u001b[0m\u001b[1;33m,\u001b[0m \u001b[0mresponseHeaders\u001b[0m\u001b[1;33m,\u001b[0m \u001b[0moutput\u001b[0m\u001b[1;33m)\u001b[0m\u001b[1;33m\u001b[0m\u001b[1;33m\u001b[0m\u001b[0m\n\u001b[0m\u001b[0;32m    379\u001b[0m         \u001b[1;32mreturn\u001b[0m \u001b[0mresponseHeaders\u001b[0m\u001b[1;33m,\u001b[0m \u001b[0moutput\u001b[0m\u001b[1;33m\u001b[0m\u001b[1;33m\u001b[0m\u001b[0m\n\u001b[0;32m    380\u001b[0m \u001b[1;33m\u001b[0m\u001b[0m\n",
      "\u001b[1;31mRateLimitExceededException\u001b[0m: 403 {\"documentation_url\": \"https://docs.github.com/en/free-pro-team@latest/rest/overview/resources-in-the-rest-api#secondary-rate-limits\", \"message\": \"You have exceeded a secondary rate limit. Please wait a few minutes before you try again.\"}"
     ]
    }
   ],
   "source": [
    "for  repo in repos:\n",
    "    print(repo)"
   ]
  },
  {
   "cell_type": "code",
   "execution_count": 131,
   "id": "90c02d7d",
   "metadata": {},
   "outputs": [
    {
     "name": "stdout",
     "output_type": "stream",
     "text": [
      "pyspark-project-template\n",
      "Apache-Airflow-on-Docker\n",
      "Basic-csv-files\n",
      "Boto-and-Snowflake-learnings\n",
      "DataScience-codes-part-1\n",
      "dataset\n",
      "deploy-ml-model-flask\n",
      "FaceMask_Object_Detection_OpenCV\n",
      "machine-learning-Smartknower-RakeshTask\n",
      "miscellaneous-code\n",
      "ML-Flask-Iris-Deployment\n",
      "NLP--Feature-Extraction\n",
      "NLP-Flask_Deployment-SPAM-HAM-Detector\n",
      "other-ml-diff-codes-basics\n",
      "other_ipynb_files\n",
      "Package_building_project\n",
      "Pyspark_Questions_SKS\n",
      "PyTestCases\n",
      "PY_stuff\n",
      "Sai-Bank_Note_API_Docker_Deployment\n",
      "sai-car-selling-predictions-FLASK-Heroku-Deployment-\n",
      "Sai-Flask-Python-Dictonary\n",
      "sairamdgr8-Configuration-and-upgradtion-on-Linux\n",
      "sairamdgr8.github.io\n",
      "Sai_Simple_Dictonary\n",
      "Sentimental-Analysis-using-PyWebIO\n",
      "Sentimental-Analysis-using-Streamlit\n",
      "SentimentalAnalysis-usingGradio\n",
      "Spark_Scala_Codes\n",
      "special-Libraries\n",
      "SQL-files-Debugging-sqlite\n",
      "Stroke-predictions-Streamlit-Deployment\n"
     ]
    }
   ],
   "source": [
    "for repo in g.get_user().get_repos():\n",
    "    print(repo.name)"
   ]
  },
  {
   "cell_type": "code",
   "execution_count": 132,
   "id": "b20c8c76",
   "metadata": {},
   "outputs": [],
   "source": [
    "repo=g.get_repo(\"sairamdgr8/SQL-files-Debugging-sqlite\")"
   ]
  },
  {
   "cell_type": "code",
   "execution_count": 134,
   "id": "1ac89d91",
   "metadata": {},
   "outputs": [
    {
     "data": {
      "text/plain": [
       "0"
      ]
     },
     "execution_count": 134,
     "metadata": {},
     "output_type": "execute_result"
    }
   ],
   "source": [
    "repo.stargazers_count"
   ]
  },
  {
   "cell_type": "code",
   "execution_count": 139,
   "id": "5e79db04",
   "metadata": {},
   "outputs": [
    {
     "data": {
      "text/plain": [
       "<bound method Repository.get_commits of Repository(full_name=\"sairamdgr8/SQL-files-Debugging-sqlite\")>"
      ]
     },
     "execution_count": 139,
     "metadata": {},
     "output_type": "execute_result"
    }
   ],
   "source": [
    "repo.get_commits"
   ]
  },
  {
   "cell_type": "code",
   "execution_count": 140,
   "id": "bbf40bf2",
   "metadata": {},
   "outputs": [
    {
     "ename": "AttributeError",
     "evalue": "'Repository' object has no attribute 'iter_commits'",
     "output_type": "error",
     "traceback": [
      "\u001b[1;31m---------------------------------------------------------------------------\u001b[0m",
      "\u001b[1;31mAttributeError\u001b[0m                            Traceback (most recent call last)",
      "\u001b[1;32m<ipython-input-140-57d8c8aa3f6b>\u001b[0m in \u001b[0;36m<module>\u001b[1;34m\u001b[0m\n\u001b[1;32m----> 1\u001b[1;33m \u001b[1;32mfor\u001b[0m \u001b[0mcommit\u001b[0m \u001b[1;32min\u001b[0m \u001b[0mrepo\u001b[0m\u001b[1;33m.\u001b[0m\u001b[0miter_commits\u001b[0m\u001b[1;33m(\u001b[0m\u001b[0mpaths\u001b[0m\u001b[1;33m=\u001b[0m\u001b[0mpaths\u001b[0m\u001b[1;33m)\u001b[0m\u001b[1;33m:\u001b[0m\u001b[1;33m\u001b[0m\u001b[1;33m\u001b[0m\u001b[0m\n\u001b[0m\u001b[0;32m      2\u001b[0m     \u001b[1;32mfor\u001b[0m \u001b[0mf\u001b[0m \u001b[1;32min\u001b[0m \u001b[0mcommit\u001b[0m\u001b[1;33m.\u001b[0m\u001b[0mstats\u001b[0m\u001b[1;33m.\u001b[0m\u001b[0mfiles\u001b[0m\u001b[1;33m.\u001b[0m\u001b[0mkeys\u001b[0m\u001b[1;33m(\u001b[0m\u001b[1;33m)\u001b[0m\u001b[1;33m:\u001b[0m\u001b[1;33m\u001b[0m\u001b[1;33m\u001b[0m\u001b[0m\n\u001b[0;32m      3\u001b[0m         \u001b[0mp\u001b[0m \u001b[1;33m=\u001b[0m \u001b[0mf\u001b[0m\u001b[1;33m[\u001b[0m\u001b[1;33m:\u001b[0m\u001b[0mf\u001b[0m\u001b[1;33m.\u001b[0m\u001b[0mindex\u001b[0m\u001b[1;33m(\u001b[0m\u001b[1;34m'/'\u001b[0m\u001b[1;33m)\u001b[0m\u001b[1;33m]\u001b[0m \u001b[1;32mif\u001b[0m \u001b[1;34m'/'\u001b[0m \u001b[1;32min\u001b[0m \u001b[0mf\u001b[0m \u001b[1;32melse\u001b[0m \u001b[0mf\u001b[0m\u001b[1;33m\u001b[0m\u001b[1;33m\u001b[0m\u001b[0m\n\u001b[0;32m      4\u001b[0m         \u001b[1;32mif\u001b[0m \u001b[0mp\u001b[0m \u001b[1;32min\u001b[0m \u001b[0mlatest_commits\u001b[0m\u001b[1;33m:\u001b[0m\u001b[1;33m\u001b[0m\u001b[1;33m\u001b[0m\u001b[0m\n\u001b[0;32m      5\u001b[0m             \u001b[1;32mcontinue\u001b[0m\u001b[1;33m\u001b[0m\u001b[1;33m\u001b[0m\u001b[0m\n",
      "\u001b[1;31mAttributeError\u001b[0m: 'Repository' object has no attribute 'iter_commits'"
     ]
    }
   ],
   "source": []
  },
  {
   "cell_type": "code",
   "execution_count": null,
   "id": "0584a577",
   "metadata": {},
   "outputs": [],
   "source": []
  }
 ],
 "metadata": {
  "kernelspec": {
   "display_name": "Python 3",
   "language": "python",
   "name": "python3"
  },
  "language_info": {
   "codemirror_mode": {
    "name": "ipython",
    "version": 3
   },
   "file_extension": ".py",
   "mimetype": "text/x-python",
   "name": "python",
   "nbconvert_exporter": "python",
   "pygments_lexer": "ipython3",
   "version": "3.8.8"
  }
 },
 "nbformat": 4,
 "nbformat_minor": 5
}
